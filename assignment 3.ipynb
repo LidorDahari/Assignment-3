{
 "cells": [
  {
   "cell_type": "code",
   "execution_count": 1,
   "metadata": {},
   "outputs": [],
   "source": [
    "#!pip install googlemaps"
   ]
  },
  {
   "cell_type": "code",
   "execution_count": 42,
   "metadata": {},
   "outputs": [],
   "source": [
    "import requests\n",
    "import googlemaps\n",
    "import pandas as pd\n",
    "import numpy as np\n",
    "import json\n",
    "from datetime import datetime\n",
    "from datetime import timedelta"
   ]
  },
  {
   "cell_type": "code",
   "execution_count": 43,
   "metadata": {},
   "outputs": [],
   "source": [
    "df =df = pd.read_csv(\"dests.txt\", sep=\" \", header=None, names=[\"Target\"])"
   ]
  },
  {
   "cell_type": "code",
   "execution_count": 48,
   "metadata": {},
   "outputs": [],
   "source": [
    "now = datetime.now()\n",
    "for index,row in df.iterrows():\n",
    "    gmaps_client = googlemaps.Client(key = api_key)\n",
    "    Source =\"Tel Aviv,Israel\"\n",
    "    direction_result = gmaps_client.directions(Source, row['Target'], \n",
    "                                       mode = 'driving',avoid ='ferries',departure_time = now)\n",
    "    \n",
    "    \n",
    "    df.loc[index,'Distance_km'] = direction_result[0]['legs'][0]['distance']['text']\n",
    "    df.loc[index,'duration'] = direction_result[0]['legs'][0]['duration']['value'] /60\n",
    "    df.loc[index,'Longitude'] = direction_result[0]['legs'][0]['end_location']['lng']\n",
    "    df.loc[index,'Latitude'] = direction_result[0]['legs'][0]['end_location']['lat']\n",
    "\n",
    "df['Duration HH:MM'] = df['duration'].apply(lambda x: f\"{int(x) // 60:02d}:{int(x) % 60:02d}\")\n",
    "df.drop(['duration'], axis =1,inplace =True)"
   ]
  },
  {
   "cell_type": "code",
   "execution_count": 49,
   "metadata": {},
   "outputs": [
    {
     "data": {
      "text/html": [
       "<div>\n",
       "<style scoped>\n",
       "    .dataframe tbody tr th:only-of-type {\n",
       "        vertical-align: middle;\n",
       "    }\n",
       "\n",
       "    .dataframe tbody tr th {\n",
       "        vertical-align: top;\n",
       "    }\n",
       "\n",
       "    .dataframe thead th {\n",
       "        text-align: right;\n",
       "    }\n",
       "</style>\n",
       "<table border=\"1\" class=\"dataframe\">\n",
       "  <thead>\n",
       "    <tr style=\"text-align: right;\">\n",
       "      <th></th>\n",
       "      <th>Target</th>\n",
       "      <th>Distance_km</th>\n",
       "      <th>Longitude</th>\n",
       "      <th>Latitude</th>\n",
       "      <th>Duration</th>\n",
       "      <th>Duration HH:MM</th>\n",
       "    </tr>\n",
       "  </thead>\n",
       "  <tbody>\n",
       "    <tr>\n",
       "      <th>0</th>\n",
       "      <td>Istanbul</td>\n",
       "      <td>1,815 km</td>\n",
       "      <td>28.978379</td>\n",
       "      <td>41.008231</td>\n",
       "      <td>21:02</td>\n",
       "      <td>21:02</td>\n",
       "    </tr>\n",
       "    <tr>\n",
       "      <th>1</th>\n",
       "      <td>Amsterdam</td>\n",
       "      <td>4,533 km</td>\n",
       "      <td>4.904181</td>\n",
       "      <td>52.367577</td>\n",
       "      <td>48:03</td>\n",
       "      <td>48:03</td>\n",
       "    </tr>\n",
       "    <tr>\n",
       "      <th>2</th>\n",
       "      <td>Valletta</td>\n",
       "      <td>5,058 km</td>\n",
       "      <td>14.514102</td>\n",
       "      <td>35.899232</td>\n",
       "      <td>55:52</td>\n",
       "      <td>55:52</td>\n",
       "    </tr>\n",
       "    <tr>\n",
       "      <th>3</th>\n",
       "      <td>Basel</td>\n",
       "      <td>4,093 km</td>\n",
       "      <td>7.588576</td>\n",
       "      <td>47.559599</td>\n",
       "      <td>44:02</td>\n",
       "      <td>44:02</td>\n",
       "    </tr>\n",
       "    <tr>\n",
       "      <th>4</th>\n",
       "      <td>Doha</td>\n",
       "      <td>2,164 km</td>\n",
       "      <td>51.531033</td>\n",
       "      <td>25.285447</td>\n",
       "      <td>22:38</td>\n",
       "      <td>22:38</td>\n",
       "    </tr>\n",
       "  </tbody>\n",
       "</table>\n",
       "</div>"
      ],
      "text/plain": [
       "      Target Distance_km  Longitude   Latitude Duration Duration HH:MM\n",
       "0   Istanbul    1,815 km  28.978379  41.008231    21:02          21:02\n",
       "1  Amsterdam    4,533 km   4.904181  52.367577    48:03          48:03\n",
       "2   Valletta    5,058 km  14.514102  35.899232    55:52          55:52\n",
       "3      Basel    4,093 km   7.588576  47.559599    44:02          44:02\n",
       "4       Doha    2,164 km  51.531033  25.285447    22:38          22:38"
      ]
     },
     "execution_count": 49,
     "metadata": {},
     "output_type": "execute_result"
    }
   ],
   "source": [
    "df"
   ]
  },
  {
   "cell_type": "markdown",
   "metadata": {},
   "source": [
    "### Q3.2"
   ]
  },
  {
   "cell_type": "code",
   "execution_count": 50,
   "metadata": {
    "scrolled": true
   },
   "outputs": [
    {
     "data": {
      "text/html": [
       "<div>\n",
       "<style scoped>\n",
       "    .dataframe tbody tr th:only-of-type {\n",
       "        vertical-align: middle;\n",
       "    }\n",
       "\n",
       "    .dataframe tbody tr th {\n",
       "        vertical-align: top;\n",
       "    }\n",
       "\n",
       "    .dataframe thead th {\n",
       "        text-align: right;\n",
       "    }\n",
       "</style>\n",
       "<table border=\"1\" class=\"dataframe\">\n",
       "  <thead>\n",
       "    <tr style=\"text-align: right;\">\n",
       "      <th></th>\n",
       "      <th>Target</th>\n",
       "      <th>Distance_km</th>\n",
       "      <th>Longitude</th>\n",
       "      <th>Latitude</th>\n",
       "      <th>Duration</th>\n",
       "      <th>Duration HH:MM</th>\n",
       "    </tr>\n",
       "  </thead>\n",
       "  <tbody>\n",
       "    <tr>\n",
       "      <th>0</th>\n",
       "      <td>Valletta</td>\n",
       "      <td>5,058 km</td>\n",
       "      <td>14.514102</td>\n",
       "      <td>35.899232</td>\n",
       "      <td>55:52</td>\n",
       "      <td>55:52</td>\n",
       "    </tr>\n",
       "    <tr>\n",
       "      <th>1</th>\n",
       "      <td>Amsterdam</td>\n",
       "      <td>4,533 km</td>\n",
       "      <td>4.904181</td>\n",
       "      <td>52.367577</td>\n",
       "      <td>48:03</td>\n",
       "      <td>48:03</td>\n",
       "    </tr>\n",
       "    <tr>\n",
       "      <th>2</th>\n",
       "      <td>Basel</td>\n",
       "      <td>4,093 km</td>\n",
       "      <td>7.588576</td>\n",
       "      <td>47.559599</td>\n",
       "      <td>44:02</td>\n",
       "      <td>44:02</td>\n",
       "    </tr>\n",
       "  </tbody>\n",
       "</table>\n",
       "</div>"
      ],
      "text/plain": [
       "      Target Distance_km  Longitude   Latitude Duration Duration HH:MM\n",
       "0   Valletta    5,058 km  14.514102  35.899232    55:52          55:52\n",
       "1  Amsterdam    4,533 km   4.904181  52.367577    48:03          48:03\n",
       "2      Basel    4,093 km   7.588576  47.559599    44:02          44:02"
      ]
     },
     "execution_count": 50,
     "metadata": {},
     "output_type": "execute_result"
    }
   ],
   "source": [
    "df_sort = df.sort_values('Distance_km',ascending=False,ignore_index=True)\n",
    "df_sort.head(3)"
   ]
  }
 ],
 "metadata": {
  "kernelspec": {
   "display_name": "Python 3",
   "language": "python",
   "name": "python3"
  },
  "language_info": {
   "codemirror_mode": {
    "name": "ipython",
    "version": 3
   },
   "file_extension": ".py",
   "mimetype": "text/x-python",
   "name": "python",
   "nbconvert_exporter": "python",
   "pygments_lexer": "ipython3",
   "version": "3.8.5"
  }
 },
 "nbformat": 4,
 "nbformat_minor": 5
}
